{
 "metadata": {
  "language_info": {
   "codemirror_mode": {
    "name": "ipython",
    "version": 3
   },
   "file_extension": ".py",
   "mimetype": "text/x-python",
   "name": "python",
   "nbconvert_exporter": "python",
   "pygments_lexer": "ipython3",
   "version": "3.9.2"
  },
  "orig_nbformat": 2,
  "kernelspec": {
   "name": "python392jvsc74a57bd080a28f8c48f2e3999fd383f6484864a69447b11534c186d33926384d6b33563c",
   "display_name": "Python 3.9.2 64-bit ('.venv': pipenv)"
  },
  "metadata": {
   "interpreter": {
    "hash": "80a28f8c48f2e3999fd383f6484864a69447b11534c186d33926384d6b33563c"
   }
  }
 },
 "nbformat": 4,
 "nbformat_minor": 2,
 "cells": [
  {
   "source": [
    "# Combine PDFs"
   ],
   "cell_type": "markdown",
   "metadata": {}
  },
  {
   "cell_type": "code",
   "execution_count": 3,
   "metadata": {},
   "outputs": [
    {
     "output_type": "stream",
     "name": "stdout",
     "text": [
      "C:\\Users\\P_W_D\\OneDrive\\04 House\\NC House\\Fence\\Doyle Fence.pdf\nC:\\Users\\P_W_D\\OneDrive\\04 House\\NC House\\Fence\\No first.pdf\n"
     ]
    }
   ],
   "source": [
    "import os\n",
    "import PyPDF2\n",
    "\n",
    "pdf_dir = r\"C:\\Users\\P_W_D\\OneDrive\\04 House\\NC House\\Fence\"\n",
    "pdf1_path = os.path.join(pdf_dir,\"Doyle Fence.pdf\")\n",
    "pdf2_path = os.path.join(pdf_dir,\"No first.pdf\")\n",
    "print(pdf1_path)\n",
    "print(pdf2_path)\n",
    "\n",
    "out_path = os.path.join(pdf_dir,\"Doyle Fence Application.pdf\")"
   ]
  },
  {
   "source": [
    "## Process"
   ],
   "cell_type": "markdown",
   "metadata": {}
  },
  {
   "cell_type": "code",
   "execution_count": 4,
   "metadata": {},
   "outputs": [],
   "source": [
    "# Open the files that have to be merged one by one\n",
    "pdf1File = open(pdf1_path, 'rb')\n",
    "pdf2File = open(pdf2_path, 'rb')\n",
    " \n",
    "# Read the files that you have opened\n",
    "pdf1Reader = PyPDF2.PdfFileReader(pdf1File)\n",
    "pdf2Reader = PyPDF2.PdfFileReader(pdf2File)\n",
    " \n",
    "# Create a new PdfFileWriter object which represents a blank PDF document\n",
    "pdfWriter = PyPDF2.PdfFileWriter()\n",
    " \n",
    "# Loop through all the pagenumbers for the first document\n",
    "for pageNum in range(pdf1Reader.numPages):\n",
    "    pageObj = pdf1Reader.getPage(pageNum)\n",
    "    pdfWriter.addPage(pageObj)\n",
    " \n",
    "# Loop through all the pagenumbers for the second document\n",
    "for pageNum in range(pdf2Reader.numPages):\n",
    "    pageObj = pdf2Reader.getPage(pageNum)\n",
    "    pdfWriter.addPage(pageObj)\n",
    " \n",
    "# Now that you have copied all the pages in both the documents, write them into the a new document\n",
    "pdfOutputFile = open(out_path, 'wb')\n",
    "pdfWriter.write(pdfOutputFile)\n",
    " \n",
    "# Close all the files - Created as well as opened\n",
    "pdfOutputFile.close()\n",
    "pdf1File.close()\n",
    "pdf2File.close()"
   ]
  },
  {
   "source": [],
   "cell_type": "markdown",
   "metadata": {}
  }
 ]
}